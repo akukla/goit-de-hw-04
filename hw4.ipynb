{
 "cells": [
  {
   "cell_type": "code",
   "id": "initial_id",
   "metadata": {
    "collapsed": true,
    "ExecuteTime": {
     "end_time": "2024-11-21T17:27:29.291779Z",
     "start_time": "2024-11-21T17:24:00.025458Z"
    }
   },
   "source": [
    "from pyspark.sql import SparkSession\n",
    "\n",
    "# Створюємо сесію Spark\n",
    "spark = SparkSession.builder \\\n",
    "    .master(\"local[*]\") \\\n",
    "    .config(\"spark.sql.shuffle.partitions\", \"2\") \\\n",
    "    .appName(\"MyGoitSparkSandbox\") \\\n",
    "    .getOrCreate()\n",
    "\n",
    "# Завантажуємо датасет\n",
    "nuek_df = spark.read \\\n",
    "    .option(\"header\", \"true\") \\\n",
    "    .option(\"inferSchema\", \"true\") \\\n",
    "    .csv('./nuek-vuh3.csv')\n",
    "\n",
    "nuek_repart = nuek_df.repartition(2)\n",
    "\n",
    "nuek_processed = nuek_repart \\\n",
    "    .where(\"final_priority < 3\") \\\n",
    "    .select(\"unit_id\", \"final_priority\") \\\n",
    "    .groupBy(\"unit_id\") \\\n",
    "    .count()\n",
    "\n",
    "# Ось ТУТ додано рядок\n",
    "nuek_processed = nuek_processed.where(\"count>2\")\n",
    "\n",
    "nuek_processed.collect()\n",
    "\n",
    "input(\"Press Enter to continue...5\")\n",
    "\n",
    "# Закриваємо сесію Spark\n",
    "spark.stop()\n"
   ],
   "outputs": [],
   "execution_count": 3
  },
  {
   "metadata": {
    "ExecuteTime": {
     "end_time": "2024-11-21T17:31:43.747250Z",
     "start_time": "2024-11-21T17:27:40.933813Z"
    }
   },
   "cell_type": "code",
   "source": [
    "from pyspark.sql import SparkSession\n",
    "\n",
    "# Створюємо сесію Spark\n",
    "spark = SparkSession.builder \\\n",
    "    .master(\"local[*]\") \\\n",
    "    .config(\"spark.sql.shuffle.partitions\", \"2\") \\\n",
    "    .appName(\"MyGoitSparkSandbox\") \\\n",
    "    .getOrCreate()\n",
    "\n",
    "# Завантажуємо датасет\n",
    "nuek_df = spark.read \\\n",
    "    .option(\"header\", \"true\") \\\n",
    "    .option(\"inferSchema\", \"true\") \\\n",
    "    .csv('./nuek-vuh3.csv')\n",
    "\n",
    "nuek_repart = nuek_df.repartition(2)\n",
    "\n",
    "nuek_processed = nuek_repart \\\n",
    "    .where(\"final_priority < 3\") \\\n",
    "    .select(\"unit_id\", \"final_priority\") \\\n",
    "    .groupBy(\"unit_id\") \\\n",
    "    .count()\n",
    "\n",
    "# Проміжний action: collect\n",
    "nuek_processed.collect()\n",
    "\n",
    "# Ось ТУТ додано рядок\n",
    "nuek_processed = nuek_processed.where(\"count>2\")\n",
    "\n",
    "nuek_processed.collect()\n",
    "\n",
    "input(\"Press Enter to continue...5\")\n",
    "\n",
    "# Закриваємо сесію Spark\n",
    "spark.stop()\n"
   ],
   "id": "8165334c7bf02d97",
   "outputs": [],
   "execution_count": 4
  },
  {
   "metadata": {},
   "cell_type": "markdown",
   "source": "Додавання nuek_processed.collect() перед фільтрацією nuek_processed = nuek_processed.where(\"count>2\") призводить до виконання всіх попередніх трансформацій двічі: один раз для першого collect() і ще раз для другого collect(). Це пояснює збільшення кількості Job.",
   "id": "9371166764c47abe"
  },
  {
   "metadata": {
    "ExecuteTime": {
     "end_time": "2024-11-21T17:36:35.368331Z",
     "start_time": "2024-11-21T17:33:46.133495Z"
    }
   },
   "cell_type": "code",
   "source": [
    "from pyspark.sql import SparkSession\n",
    "\n",
    "# Створюємо сесію Spark\n",
    "spark = SparkSession.builder \\\n",
    "    .master(\"local[*]\") \\\n",
    "    .config(\"spark.sql.shuffle.partitions\", \"2\") \\\n",
    "    .appName(\"MyGoitSparkSandbox\") \\\n",
    "    .getOrCreate()\n",
    "\n",
    "# Завантажуємо датасет\n",
    "nuek_df = spark.read \\\n",
    "    .option(\"header\", \"true\") \\\n",
    "    .option(\"inferSchema\", \"true\") \\\n",
    "    .csv('./nuek-vuh3.csv')\n",
    "\n",
    "nuek_repart = nuek_df.repartition(2)\n",
    "\n",
    "nuek_processed_cached = nuek_repart \\\n",
    "    .where(\"final_priority < 3\") \\\n",
    "    .select(\"unit_id\", \"final_priority\") \\\n",
    "    .groupBy(\"unit_id\") \\\n",
    "    .count() \\\n",
    "    .cache()  # Додано функцію cache\n",
    "\n",
    "# Проміжний action: collect\n",
    "nuek_processed_cached.collect()\n",
    "\n",
    "# Ось ТУТ додано рядок\n",
    "nuek_processed = nuek_processed_cached.where(\"count>2\")\n",
    "\n",
    "nuek_processed.collect()\n",
    "\n",
    "input(\"Press Enter to continue...5\")\n",
    "\n",
    "# Звільняємо пям'ять від Dataframe\n",
    "nuek_processed_cached.unpersist()\n",
    "\n",
    "# Закриваємо сесію Spark\n",
    "spark.stop()\n"
   ],
   "id": "3c8866195e7ac897",
   "outputs": [],
   "execution_count": 5
  },
  {
   "metadata": {},
   "cell_type": "markdown",
   "source": "При використанні cache(), ми зберігаємо проміжні результати в пам'яті, що дозволяє уникнути повторного виконання всіх попередніх трансформацій. Це зменшує кількість Job, оскільки Spark не потрібно повторно обчислювати ті ж самі дані для кожного виклику collect().",
   "id": "60774b2bc7d2183d"
  }
 ],
 "metadata": {
  "kernelspec": {
   "display_name": "Python 3",
   "language": "python",
   "name": "python3"
  },
  "language_info": {
   "codemirror_mode": {
    "name": "ipython",
    "version": 2
   },
   "file_extension": ".py",
   "mimetype": "text/x-python",
   "name": "python",
   "nbconvert_exporter": "python",
   "pygments_lexer": "ipython2",
   "version": "2.7.6"
  }
 },
 "nbformat": 4,
 "nbformat_minor": 5
}
